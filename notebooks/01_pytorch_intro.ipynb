{
 "cells": [
  {
   "cell_type": "code",
   "execution_count": 2,
   "metadata": {},
   "outputs": [
    {
     "name": "stdout",
     "output_type": "stream",
     "text": [
      "Mon Oct 23 05:31:42 2023       \n",
      "+-----------------------------------------------------------------------------+\n",
      "| NVIDIA-SMI 515.65.01    Driver Version: 515.65.01    CUDA Version: 11.7     |\n",
      "|-------------------------------+----------------------+----------------------+\n",
      "| GPU  Name        Persistence-M| Bus-Id        Disp.A | Volatile Uncorr. ECC |\n",
      "| Fan  Temp  Perf  Pwr:Usage/Cap|         Memory-Usage | GPU-Util  Compute M. |\n",
      "|                               |                      |               MIG M. |\n",
      "|===============================+======================+======================|\n",
      "|   0  Tesla T4            On   | 00000000:00:1E.0 Off |                    0 |\n",
      "| N/A   42C    P8    15W /  70W |      2MiB / 15360MiB |      0%      Default |\n",
      "|                               |                      |                  N/A |\n",
      "+-------------------------------+----------------------+----------------------+\n",
      "                                                                               \n",
      "+-----------------------------------------------------------------------------+\n",
      "| Processes:                                                                  |\n",
      "|  GPU   GI   CI        PID   Type   Process name                  GPU Memory |\n",
      "|        ID   ID                                                   Usage      |\n",
      "|=============================================================================|\n",
      "|  No running processes found                                                 |\n",
      "+-----------------------------------------------------------------------------+\n"
     ]
    }
   ],
   "source": [
    "!nvidia-smi"
   ]
  },
  {
   "cell_type": "code",
   "execution_count": 10,
   "metadata": {},
   "outputs": [
    {
     "name": "stdout",
     "output_type": "stream",
     "text": [
      "Package                       Version\n",
      "----------------------------- --------------\n",
      "aniso8601                     9.0.1\n",
      "ansi2html                     1.8.0\n",
      "anyio                         3.6.2\n",
      "argon2-cffi                   21.3.0\n",
      "argon2-cffi-bindings          21.2.0\n",
      "arrow                         1.2.3\n",
      "asttokens                     2.2.1\n",
      "attrs                         22.2.0\n",
      "awscli                        1.22.101\n",
      "Babel                         2.11.0\n",
      "backcall                      0.2.0\n",
      "backports.functools-lru-cache 1.6.4\n",
      "beautifulsoup4                4.11.1\n",
      "bleach                        5.0.1\n",
      "blis                          0.7.9\n",
      "bokeh                         2.4.3\n",
      "boto3                         1.26.41\n",
      "botocore                      1.29.41\n",
      "brotlipy                      0.7.0\n",
      "captum                        0.5.0\n",
      "catalogue                     2.0.8\n",
      "certifi                       2022.12.7\n",
      "cffi                          1.15.1\n",
      "charset-normalizer            2.1.1\n",
      "click                         8.1.3\n",
      "cloudpickle                   2.2.0\n",
      "colorama                      0.4.3\n",
      "comm                          0.1.2\n",
      "confection                    0.0.3\n",
      "contextlib2                   21.6.0\n",
      "cryptography                  39.0.0\n",
      "cycler                        0.11.0\n",
      "cymem                         2.0.7\n",
      "dataclasses                   0.8\n",
      "debugpy                       1.6.4\n",
      "decorator                     5.1.1\n",
      "defusedxml                    0.7.1\n",
      "dill                          0.3.6\n",
      "docutils                      0.15.2\n",
      "dparse                        0.6.2\n",
      "entrypoints                   0.4\n",
      "executing                     1.2.0\n",
      "fastai                        2.1.10\n",
      "fastcore                      1.5.26\n",
      "fastjsonschema                2.16.2\n",
      "fastprogress                  1.0.3\n",
      "filelock                      3.6.0\n",
      "Flask                         2.2.2\n",
      "Flask-RESTful                 0.3.9\n",
      "flit_core                     3.8.0\n",
      "fonttools                     4.38.0\n",
      "fsspec                        2022.11.0\n",
      "future                        0.18.2\n",
      "google-pasta                  0.2.0\n",
      "gym                           0.26.2\n",
      "gym-notices                   0.0.8\n",
      "horovod                       0.26.1\n",
      "idna                          3.4\n",
      "imageio                       2.16.2\n",
      "importlib-metadata            4.13.0\n",
      "importlib-resources           5.10.2\n",
      "ipykernel                     6.19.4\n",
      "ipython                       8.7.0\n",
      "ipython-genutils              0.2.0\n",
      "ipywidgets                    8.0.4\n",
      "itsdangerous                  2.1.2\n",
      "jedi                          0.18.2\n",
      "Jinja2                        3.1.2\n",
      "jmespath                      1.0.1\n",
      "joblib                        1.2.0\n",
      "json5                         0.9.5\n",
      "jsonschema                    4.17.3\n",
      "jupyter_client                7.4.8\n",
      "jupyter_core                  5.1.1\n",
      "jupyter-server                1.23.4\n",
      "jupyterlab                    3.3.4\n",
      "jupyterlab-pygments           0.2.2\n",
      "jupyterlab_server             2.17.0\n",
      "jupyterlab-widgets            3.0.5\n",
      "kiwisolver                    1.4.4\n",
      "langcodes                     3.3.0\n",
      "llvmlite                      0.39.1\n",
      "MarkupSafe                    2.1.1\n",
      "matplotlib                    3.5.3\n",
      "matplotlib-inline             0.1.6\n",
      "mistune                       2.0.4\n",
      "multiprocess                  0.70.14\n",
      "munkres                       1.1.4\n",
      "murmurhash                    1.0.9\n",
      "nbclassic                     0.4.8\n",
      "nbclient                      0.7.2\n",
      "nbconvert                     7.2.7\n",
      "nbformat                      5.7.1\n",
      "nest-asyncio                  1.5.6\n",
      "notebook                      6.4.12\n",
      "notebook_shim                 0.2.2\n",
      "numba                         0.56.4\n",
      "numpy                         1.23.5\n",
      "nvgpu                         0.9.0\n",
      "packaging                     21.3\n",
      "pandas                        1.4.4\n",
      "pandocfilters                 1.5.0\n",
      "parso                         0.8.3\n",
      "pathos                        0.3.0\n",
      "pathy                         0.10.1\n",
      "patsy                         0.5.3\n",
      "pexpect                       4.8.0\n",
      "pickleshare                   0.7.5\n",
      "Pillow                        9.4.0\n",
      "pip                           22.3.1\n",
      "pkgutil_resolve_name          1.3.10\n",
      "platformdirs                  2.6.2\n",
      "ply                           3.11\n",
      "pox                           0.3.2\n",
      "ppft                          1.7.6.6\n",
      "preshed                       3.0.8\n",
      "prometheus-client             0.15.0\n",
      "prompt-toolkit                3.0.36\n",
      "protobuf                      3.20.2\n",
      "protobuf3-to-dict             0.1.5\n",
      "psutil                        5.9.4\n",
      "ptyprocess                    0.7.0\n",
      "pure-eval                     0.2.2\n",
      "pyarrow                       10.0.1\n",
      "pyasn1                        0.4.8\n",
      "pybind11                      2.9.2\n",
      "pybind11-global               2.9.2\n",
      "pycparser                     2.21\n",
      "pydantic                      1.10.4\n",
      "pyfunctional                  1.4.3\n",
      "pygame                        2.1.2\n",
      "Pygments                      2.14.0\n",
      "pynvml                        11.4.1\n",
      "pyOpenSSL                     23.0.0\n",
      "pyparsing                     3.0.9\n",
      "PyQt5                         5.15.7\n",
      "PyQt5-sip                     12.11.0\n",
      "pyrsistent                    0.19.3\n",
      "PySocks                       1.7.1\n",
      "python-dateutil               2.8.2\n",
      "pytz                          2022.7\n",
      "PyYAML                        5.4.1\n",
      "pyzmq                         24.0.1\n",
      "requests                      2.28.1\n",
      "rsa                           4.7.2\n",
      "ruamel.yaml                   0.17.21\n",
      "ruamel.yaml.clib              0.2.7\n",
      "s3fs                          0.4.2\n",
      "s3transfer                    0.6.0\n",
      "sagemaker                     2.126.0\n",
      "schema                        0.7.5\n",
      "scikit-learn                  1.0\n",
      "scipy                         1.8.1\n",
      "seaborn                       0.11.2\n",
      "Send2Trash                    1.8.0\n",
      "setuptools                    65.6.3\n",
      "shap                          0.40.0\n",
      "shellingham                   1.5.0\n",
      "sip                           6.7.5\n",
      "six                           1.16.0\n",
      "slicer                        0.0.7\n",
      "smart-open                    5.2.1\n",
      "smclarify                     0.3\n",
      "smdebug-rulesconfig           1.0.1\n",
      "sniffio                       1.3.0\n",
      "soupsieve                     2.3.2.post1\n",
      "spacy                         3.4.4\n",
      "spacy-legacy                  3.0.10\n",
      "spacy-loggers                 1.0.4\n",
      "srsly                         2.4.5\n",
      "stack-data                    0.6.2\n",
      "statsmodels                   0.13.5\n",
      "tabulate                      0.9.0\n",
      "termcolor                     2.1.1\n",
      "terminado                     0.17.1\n",
      "thinc                         8.1.6\n",
      "threadpoolctl                 3.1.0\n",
      "tinycss2                      1.2.1\n",
      "toml                          0.10.2\n",
      "torch                         1.13.1\n",
      "torch-model-archiver          0.5.3b20220226\n",
      "torch-workflow-archiver       0.2.6b20221212\n",
      "torchaudio                    0.13.1\n",
      "torchserve                    0.6.0b20220513\n",
      "torchtext                     0.14.1\n",
      "torchvision                   0.14.1\n",
      "tornado                       6.2\n",
      "tqdm                          4.63.2\n",
      "traitlets                     5.8.0\n",
      "typer                         0.4.2\n",
      "typing_extensions             4.4.0\n",
      "unicodedata2                  15.0.0\n",
      "urllib3                       1.26.13\n",
      "wasabi                        0.10.1\n",
      "wcwidth                       0.2.5\n",
      "webencodings                  0.5.1\n",
      "websocket-client              1.4.2\n",
      "Werkzeug                      2.2.2\n",
      "wheel                         0.38.4\n",
      "widgetsnbextension            4.0.5\n",
      "zipp                          3.11.0\n"
     ]
    }
   ],
   "source": [
    "!pip list"
   ]
  },
  {
   "cell_type": "code",
   "execution_count": 3,
   "metadata": {},
   "outputs": [],
   "source": [
    "%matplotlib inline\n",
    "import torch\n",
    "import numpy as np"
   ]
  },
  {
   "cell_type": "code",
   "execution_count": 8,
   "metadata": {},
   "outputs": [
    {
     "name": "stdout",
     "output_type": "stream",
     "text": [
      "cpu\n"
     ]
    }
   ],
   "source": [
    "device = 'cuda' if torch.cuda.is_available() else 'cpu'\n",
    "print(device)"
   ]
  },
  {
   "cell_type": "markdown",
   "metadata": {},
   "source": [
    "# Initializing a tensor\n",
    "\n",
    "Tensors can be initialized in various ways. Take a look at the following examples.\n",
    "\n",
    "## Directly from data\n",
    "\n",
    "Tensors can be created directly from data. The data type is automatically inferred."
   ]
  },
  {
   "cell_type": "code",
   "execution_count": 9,
   "metadata": {},
   "outputs": [],
   "source": [
    "data = [[1, 2],[3, 4]]\n",
    "x_data = torch.tensor(data)"
   ]
  },
  {
   "cell_type": "markdown",
   "metadata": {},
   "source": [
    "## From a NumPy array\n",
    "\n",
    "Tensors can be created from NumPy arrays and vice versa.  Since, numpy _'np_array'_ and tensor _'x_np'_ share the same memory location here, changing the value for one will change the other.  "
   ]
  },
  {
   "cell_type": "code",
   "execution_count": 10,
   "metadata": {},
   "outputs": [
    {
     "name": "stdout",
     "output_type": "stream",
     "text": [
      "Numpy np_array value: \n",
      " [[1 2]\n",
      " [3 4]] \n",
      "\n",
      "Tensor x_np value: \n",
      " tensor([[1, 2],\n",
      "        [3, 4]]) \n",
      "\n",
      "Numpy np_array after * 2 operation: \n",
      " [[2 4]\n",
      " [6 8]] \n",
      "\n",
      "Tensor x_np value after modifying numpy array: \n",
      " tensor([[2, 4],\n",
      "        [6, 8]]) \n",
      "\n"
     ]
    }
   ],
   "source": [
    "np_array = np.array(data)\n",
    "x_np = torch.from_numpy(np_array)\n",
    "\n",
    "print(f\"Numpy np_array value: \\n {np_array} \\n\")\n",
    "print(f\"Tensor x_np value: \\n {x_np} \\n\")\n",
    "\n",
    "np.multiply(np_array, 2, out=np_array)\n",
    "\n",
    "print(f\"Numpy np_array after * 2 operation: \\n {np_array} \\n\")\n",
    "print(f\"Tensor x_np value after modifying numpy array: \\n {x_np} \\n\")"
   ]
  },
  {
   "cell_type": "markdown",
   "metadata": {},
   "source": [
    "## From another tensor\n",
    "\n",
    "The new tensor retains the properties (shape, data type) of the argument tensor, unless explicitly overridden."
   ]
  },
  {
   "cell_type": "code",
   "execution_count": 11,
   "metadata": {},
   "outputs": [
    {
     "name": "stdout",
     "output_type": "stream",
     "text": [
      "Ones Tensor: \n",
      " tensor([[1, 1],\n",
      "        [1, 1]]) \n",
      "\n",
      "Random Tensor: \n",
      " tensor([[0.7621, 0.6109],\n",
      "        [0.4521, 0.4448]]) \n",
      "\n"
     ]
    }
   ],
   "source": [
    "x_ones = torch.ones_like(x_data) # retains the properties of x_data\n",
    "print(f\"Ones Tensor: \\n {x_ones} \\n\")\n",
    "\n",
    "x_rand = torch.rand_like(x_data, dtype=torch.float) # overrides the datatype of x_data\n",
    "print(f\"Random Tensor: \\n {x_rand} \\n\")"
   ]
  },
  {
   "cell_type": "markdown",
   "metadata": {},
   "source": [
    "## With random or constant values\n",
    "\n",
    "`shape` is defined by a tuple of tensor dimensions, which set the number of rows and columns in a tensor. In the functions below, `shape` determines the dimensionality of the output tensor. "
   ]
  },
  {
   "cell_type": "code",
   "execution_count": 12,
   "metadata": {},
   "outputs": [
    {
     "name": "stdout",
     "output_type": "stream",
     "text": [
      "Random Tensor: \n",
      " tensor([[0.3153, 0.3145, 0.1722],\n",
      "        [0.5322, 0.2878, 0.1126]]) \n",
      "\n",
      "Ones Tensor: \n",
      " tensor([[1., 1., 1.],\n",
      "        [1., 1., 1.]]) \n",
      "\n",
      "Zeros Tensor: \n",
      " tensor([[0., 0., 0.],\n",
      "        [0., 0., 0.]])\n"
     ]
    }
   ],
   "source": [
    "shape = (2,3)\n",
    "rand_tensor = torch.rand(shape)\n",
    "ones_tensor = torch.ones(shape)\n",
    "zeros_tensor = torch.zeros(shape)\n",
    "\n",
    "print(f\"Random Tensor: \\n {rand_tensor} \\n\")\n",
    "print(f\"Ones Tensor: \\n {ones_tensor} \\n\")\n",
    "print(f\"Zeros Tensor: \\n {zeros_tensor}\")"
   ]
  },
  {
   "cell_type": "markdown",
   "metadata": {},
   "source": [
    "# Attributes of a tensor\n",
    "\n",
    "Tensor attributes describe their shape, data type, and the device on which they are stored.\n",
    "\n"
   ]
  },
  {
   "cell_type": "code",
   "execution_count": 13,
   "metadata": {},
   "outputs": [
    {
     "name": "stdout",
     "output_type": "stream",
     "text": [
      "Shape of tensor: torch.Size([3, 4])\n",
      "Datatype of tensor: torch.float32\n",
      "Device tensor is stored on: cpu\n"
     ]
    }
   ],
   "source": [
    "tensor = torch.rand(3,4)\n",
    "\n",
    "print(f\"Shape of tensor: {tensor.shape}\")\n",
    "print(f\"Datatype of tensor: {tensor.dtype}\")\n",
    "print(f\"Device tensor is stored on: {tensor.device}\")"
   ]
  },
  {
   "cell_type": "markdown",
   "metadata": {},
   "source": [
    "# Operations on tensors\n",
    "\n",
    "There are more than 100 tensor operations, including arithmetic, linear algebra, matrix manipulation (such as transposing, indexing, and slicing). For sampling and reviewing, you'll find a comprehensive description [here](https://pytorch.org/docs/stable/torch.html).\n",
    "\n",
    "Each of these operations can be run on the GPU (at typically higher speeds than on a\n",
    "CPU).\n",
    "- CPUs have up to 16 cores. Cores are units that do the actual computation. Each core processes tasks in a sequential order (one task at a time).\n",
    "- GPUs have 1000s of cores.  GPU cores handle computations in parallel processing. Tasks are divided and processed across the different cores. That's what makes GPUs faster than CPUs in most cases. GPUs perform better with large data than small data. GPU are typically used for high-intensive computation of graphics or neural networks (we'll learn more about that later in the Neural Network unit).\n",
    "- PyTorch can use the Nvidia CUDA library to take advantage of their GPU cards.\n",
    "\n",
    "<img alt=\"Diagram showing workload between cpu and gpu.\" src=\"../images/2-tensor-2.png\"/>\n",
    "\n",
    "By default, tensors are created on the CPU. Tensors can also be computed to GPUs; to do that, you need to move them using the `.to` method (after checking for GPU availability). Keep in mind that copying large tensors across devices can be expensive in terms of time and memory!\n"
   ]
  },
  {
   "cell_type": "code",
   "execution_count": 14,
   "metadata": {},
   "outputs": [],
   "source": [
    "# We move our tensor to the GPU if available\n",
    "if torch.cuda.is_available():\n",
    "  tensor = tensor.to('cuda')"
   ]
  },
  {
   "cell_type": "markdown",
   "metadata": {},
   "source": [
    "## Standard numpy-like indexing and slicing"
   ]
  },
  {
   "cell_type": "markdown",
   "metadata": {},
   "source": [
    "## Joining tensors\n",
    "You can use [`torch.cat`](https://pytorch.org/docs/stable/generated/torch.cat.html) to concatenate a sequence of tensors along a *given* dimension.\n",
    "[`torch.stack`](https://pytorch.org/docs/stable/generated/torch.stack.html) is a related tensor joining option that concatenates a sequence of tensors along a *new* dimension."
   ]
  },
  {
   "cell_type": "code",
   "execution_count": 15,
   "metadata": {},
   "outputs": [
    {
     "name": "stdout",
     "output_type": "stream",
     "text": [
      "tensor([[0.0050, 0.2928, 0.1820, 0.5442, 0.0050, 0.2928, 0.1820, 0.5442, 0.0050,\n",
      "         0.2928, 0.1820, 0.5442],\n",
      "        [0.2293, 0.2239, 0.0637, 0.7417, 0.2293, 0.2239, 0.0637, 0.7417, 0.2293,\n",
      "         0.2239, 0.0637, 0.7417],\n",
      "        [0.5518, 0.0411, 0.5066, 0.6727, 0.5518, 0.0411, 0.5066, 0.6727, 0.5518,\n",
      "         0.0411, 0.5066, 0.6727]])\n"
     ]
    }
   ],
   "source": [
    "t1 = torch.cat([tensor, tensor, tensor], dim=1)\n",
    "print(t1)"
   ]
  },
  {
   "cell_type": "markdown",
   "metadata": {},
   "source": [
    "## Arithmetic operations"
   ]
  },
  {
   "cell_type": "code",
   "execution_count": 16,
   "metadata": {},
   "outputs": [
    {
     "name": "stderr",
     "output_type": "stream",
     "text": [
      "/tmp/ipykernel_2599/2653314025.py:6: UserWarning: An output with one or more elements was resized since it had shape [3, 4], which does not match the required output shape [3, 3]. This behavior is deprecated, and in a future PyTorch release outputs will not be resized unless they have zero elements. You can explicitly reuse an out tensor t by resizing it, inplace, to zero elements with t.resize_(0). (Triggered internally at ../aten/src/ATen/native/Resize.cpp:28.)\n",
      "  torch.matmul(tensor, tensor.T, out=y3)\n"
     ]
    },
    {
     "data": {
      "text/plain": [
       "tensor([[2.4711e-05, 8.5736e-02, 3.3119e-02, 2.9616e-01],\n",
       "        [5.2561e-02, 5.0133e-02, 4.0585e-03, 5.5019e-01],\n",
       "        [3.0452e-01, 1.6905e-03, 2.5664e-01, 4.5254e-01]])"
      ]
     },
     "execution_count": 16,
     "metadata": {},
     "output_type": "execute_result"
    }
   ],
   "source": [
    "# This computes the matrix multiplication between two tensors. y1, y2, y3 will have the same value\n",
    "y1 = tensor @ tensor.T\n",
    "y2 = tensor.matmul(tensor.T)\n",
    "\n",
    "y3 = torch.rand_like(tensor)\n",
    "torch.matmul(tensor, tensor.T, out=y3)\n",
    "\n",
    "\n",
    "# This computes the element-wise product. z1, z2, z3 will have the same value\n",
    "z1 = tensor * tensor\n",
    "z2 = tensor.mul(tensor)\n",
    "\n",
    "z3 = torch.rand_like(tensor)\n",
    "torch.mul(tensor, tensor, out=z3)"
   ]
  },
  {
   "cell_type": "markdown",
   "metadata": {},
   "source": [
    "## Single-element tensors\n",
    "If you have a one-element tensor, for example by aggregating all\n",
    "values of a tensor into one value, you can convert it to a Python\n",
    "numerical value using `item()`:"
   ]
  },
  {
   "cell_type": "code",
   "execution_count": 17,
   "metadata": {},
   "outputs": [
    {
     "name": "stdout",
     "output_type": "stream",
     "text": [
      "4.05484676361084 <class 'float'>\n"
     ]
    }
   ],
   "source": [
    "agg = tensor.sum()\n",
    "agg_item = agg.item()  \n",
    "print(agg_item, type(agg_item))"
   ]
  },
  {
   "cell_type": "markdown",
   "metadata": {},
   "source": [
    "## In-place operations\n",
    "Operations that store the result into the operand are called in-place. They are denoted by a ``_`` suffix. \n",
    "For example: ``x.copy_(y)``, ``x.t_()``, will change ``x``.\n",
    "\n",
    "> **Note:** In-place operations save some memory, but can be problematic when computing derivatives because of their immediate loss of history. Hence, their use is discouraged.\n",
    "\n"
   ]
  },
  {
   "cell_type": "code",
   "execution_count": 18,
   "metadata": {},
   "outputs": [
    {
     "name": "stdout",
     "output_type": "stream",
     "text": [
      "tensor([[0.0050, 0.2928, 0.1820, 0.5442],\n",
      "        [0.2293, 0.2239, 0.0637, 0.7417],\n",
      "        [0.5518, 0.0411, 0.5066, 0.6727]]) \n",
      "\n",
      "tensor([[5.0050, 5.2928, 5.1820, 5.5442],\n",
      "        [5.2293, 5.2239, 5.0637, 5.7417],\n",
      "        [5.5518, 5.0411, 5.5066, 5.6727]])\n"
     ]
    }
   ],
   "source": [
    "print(tensor, \"\\n\")\n",
    "tensor.add_(5)\n",
    "print(tensor)"
   ]
  },
  {
   "cell_type": "markdown",
   "metadata": {},
   "source": [
    "## Bridge with NumPy\n",
    "\n",
    "Tensors on the CPU and NumPy arrays can share their underlying memory\n",
    "locations, and changing one will change\tthe other.\n",
    "\n",
    "### Tensor to NumPy array"
   ]
  },
  {
   "cell_type": "code",
   "execution_count": 19,
   "metadata": {},
   "outputs": [
    {
     "name": "stdout",
     "output_type": "stream",
     "text": [
      "t: tensor([1., 1., 1., 1., 1.])\n",
      "n: [1. 1. 1. 1. 1.]\n"
     ]
    }
   ],
   "source": [
    "t = torch.ones(5)\n",
    "print(f\"t: {t}\")\n",
    "n = t.numpy()\n",
    "print(f\"n: {n}\")"
   ]
  },
  {
   "cell_type": "markdown",
   "metadata": {},
   "source": [
    "A change in the tensor reflects in the NumPy array."
   ]
  },
  {
   "cell_type": "code",
   "execution_count": 20,
   "metadata": {},
   "outputs": [
    {
     "name": "stdout",
     "output_type": "stream",
     "text": [
      "t: tensor([2., 2., 2., 2., 2.])\n",
      "n: [2. 2. 2. 2. 2.]\n"
     ]
    }
   ],
   "source": [
    "t.add_(1)\n",
    "print(f\"t: {t}\")\n",
    "print(f\"n: {n}\")"
   ]
  },
  {
   "cell_type": "markdown",
   "metadata": {},
   "source": [
    "### NumPy array to tensor"
   ]
  },
  {
   "cell_type": "code",
   "execution_count": 21,
   "metadata": {},
   "outputs": [],
   "source": [
    "n = np.ones(5)\n",
    "t = torch.from_numpy(n)"
   ]
  },
  {
   "cell_type": "markdown",
   "metadata": {},
   "source": [
    "Changes in the NumPy array reflects in the tensor."
   ]
  },
  {
   "cell_type": "code",
   "execution_count": 22,
   "metadata": {},
   "outputs": [
    {
     "name": "stdout",
     "output_type": "stream",
     "text": [
      "t: tensor([2., 2., 2., 2., 2.], dtype=torch.float64)\n",
      "n: [2. 2. 2. 2. 2.]\n"
     ]
    }
   ],
   "source": [
    "np.add(n, 1, out=n)\n",
    "print(f\"t: {t}\")\n",
    "print(f\"n: {n}\")"
   ]
  }
 ],
 "metadata": {
  "kernelspec": {
   "display_name": "Python 3 (ipykernel)",
   "language": "python",
   "name": "python3"
  },
  "language_info": {
   "codemirror_mode": {
    "name": "ipython",
    "version": 3
   },
   "file_extension": ".py",
   "mimetype": "text/x-python",
   "name": "python",
   "nbconvert_exporter": "python",
   "pygments_lexer": "ipython3",
   "version": "3.10.8"
  }
 },
 "nbformat": 4,
 "nbformat_minor": 2
}
