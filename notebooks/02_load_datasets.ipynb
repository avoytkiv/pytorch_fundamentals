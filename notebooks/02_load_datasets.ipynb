{
 "cells": [
  {
   "cell_type": "markdown",
   "metadata": {},
   "source": [
    "# Datasets and Dataloaders\n",
    "\n",
    "Code for processing data samples can get complex and hard to maintain. We typically want our dataset code to be decoupled from our model training code, for better readability and modularity.\n",
    "PyTorch provides two data primitives: ``torch.utils.data.DataLoader`` and ``torch.utils.data.Dataset``\n",
    "that enable you to use pre-loaded datasets as well as your own data.\n",
    "``Dataset`` stores the samples and their corresponding labels, and ``DataLoader`` wraps an iterable around the ``Dataset`` to enable easy access to the samples.\n",
    "\n",
    "PyTorch domain libraries provide a number of sample pre-loaded datasets (such as **_FashionMNIST_**) that subclass ``torch.utils.data.Dataset`` and implement functions specific to the particular data. Samples for prototyping and benchmarking your model include: \n",
    "- Image Datasets\n",
    "- Text Datasets\n",
    "- Audio Datasets\n",
    "\n",
    "## Loading a dataset\n",
    "\n",
    "We will be loading the Fashion-MNIST dataset from TorchVision. Fashion-MNIST is a dataset of Zalando’s article images consisting of of 60,000 training examples and 10,000 test examples.  Each example comprises a 28×28 grayscale image and an associated label from one of 10 classes.  \n",
    "\n",
    " - Each image is 28 pixels in height and 28 pixels in width, with a total of 784 pixels\n",
    " - The 10 classes tell what type of image it is, for example: T-shirt/top, Trouser, Pullover, Dress, Bag, Ankle boot etc.\n",
    " - The grayscale pixels have values between 0 to 255 that measure the intensity of black and white images.  The intensity value increase from white to black. For example:  a white color is 0, while a black color is 255.\n",
    " \n",
    " ![Image showing grayscale image pixels and values.](../images/3-data-1.png)\n",
    "\n",
    "\n",
    "We load the FashionMNIST Dataset with the following parameters:\n",
    " - **root** is the path where the train/test data is stored.\n",
    " - **train** specifies training or test dataset.\n",
    " - **download=True** downloads the data from the Internet if it's not available at `root`.\n",
    " - **transform** and `target_transform` specify the feature and label transformations."
   ]
  },
  {
   "cell_type": "code",
   "execution_count": 1,
   "metadata": {},
   "outputs": [
    {
     "ename": "ModuleNotFoundError",
     "evalue": "No module named 'torchvision'",
     "output_type": "error",
     "traceback": [
      "\u001b[0;31m---------------------------------------------------------------------------\u001b[0m",
      "\u001b[0;31mModuleNotFoundError\u001b[0m                       Traceback (most recent call last)",
      "\u001b[1;32m/workspaces/pytorch_fundamentals/notebooks/02_load_datasets.ipynb Cell 2\u001b[0m line \u001b[0;36m4\n\u001b[1;32m      <a href='vscode-notebook-cell://codespaces%2Bverbose-space-umbrella-6pgw6xp5vxpc5qjw/workspaces/pytorch_fundamentals/notebooks/02_load_datasets.ipynb#W3sdnNjb2RlLXJlbW90ZQ%3D%3D?line=1'>2</a>\u001b[0m \u001b[39mimport\u001b[39;00m \u001b[39mtorch\u001b[39;00m\n\u001b[1;32m      <a href='vscode-notebook-cell://codespaces%2Bverbose-space-umbrella-6pgw6xp5vxpc5qjw/workspaces/pytorch_fundamentals/notebooks/02_load_datasets.ipynb#W3sdnNjb2RlLXJlbW90ZQ%3D%3D?line=2'>3</a>\u001b[0m \u001b[39mfrom\u001b[39;00m \u001b[39mtorch\u001b[39;00m\u001b[39m.\u001b[39;00m\u001b[39mutils\u001b[39;00m\u001b[39m.\u001b[39;00m\u001b[39mdata\u001b[39;00m \u001b[39mimport\u001b[39;00m Dataset\n\u001b[0;32m----> <a href='vscode-notebook-cell://codespaces%2Bverbose-space-umbrella-6pgw6xp5vxpc5qjw/workspaces/pytorch_fundamentals/notebooks/02_load_datasets.ipynb#W3sdnNjb2RlLXJlbW90ZQ%3D%3D?line=3'>4</a>\u001b[0m \u001b[39mfrom\u001b[39;00m \u001b[39mtorchvision\u001b[39;00m \u001b[39mimport\u001b[39;00m datasets\n\u001b[1;32m      <a href='vscode-notebook-cell://codespaces%2Bverbose-space-umbrella-6pgw6xp5vxpc5qjw/workspaces/pytorch_fundamentals/notebooks/02_load_datasets.ipynb#W3sdnNjb2RlLXJlbW90ZQ%3D%3D?line=4'>5</a>\u001b[0m \u001b[39mfrom\u001b[39;00m \u001b[39mtorchvision\u001b[39;00m\u001b[39m.\u001b[39;00m\u001b[39mtransforms\u001b[39;00m \u001b[39mimport\u001b[39;00m ToTensor, Lambda\n\u001b[1;32m      <a href='vscode-notebook-cell://codespaces%2Bverbose-space-umbrella-6pgw6xp5vxpc5qjw/workspaces/pytorch_fundamentals/notebooks/02_load_datasets.ipynb#W3sdnNjb2RlLXJlbW90ZQ%3D%3D?line=5'>6</a>\u001b[0m \u001b[39mimport\u001b[39;00m \u001b[39mmatplotlib\u001b[39;00m\u001b[39m.\u001b[39;00m\u001b[39mpyplot\u001b[39;00m \u001b[39mas\u001b[39;00m \u001b[39mplt\u001b[39;00m\n",
      "\u001b[0;31mModuleNotFoundError\u001b[0m: No module named 'torchvision'"
     ]
    }
   ],
   "source": [
    "%matplotlib inline\n",
    "import torch\n",
    "from torch.utils.data import Dataset\n",
    "from torchvision import datasets\n",
    "from torchvision.transforms import ToTensor, Lambda\n",
    "import matplotlib.pyplot as plt\n",
    "\n",
    "training_data = datasets.FashionMNIST(\n",
    "    root=\"data\",\n",
    "    train=True,\n",
    "    download=True,\n",
    "    transform=ToTensor()\n",
    ")\n",
    "\n",
    "test_data = datasets.FashionMNIST(\n",
    "    root=\"data\",\n",
    "    train=False,\n",
    "    download=True,\n",
    "    transform=ToTensor()\n",
    ")"
   ]
  },
  {
   "cell_type": "markdown",
   "metadata": {},
   "source": [
    "## Iterating and visualizing the Dataset\n",
    "-----------------\n",
    "\n",
    "We can index ``Datasets`` manually like a list: ``training_data[index]``. \n",
    "We use ``matplotlib`` to visualize some samples in our training data."
   ]
  },
  {
   "cell_type": "code",
   "execution_count": 2,
   "metadata": {},
   "outputs": [
    {
     "ename": "NameError",
     "evalue": "name 'plt' is not defined",
     "output_type": "error",
     "traceback": [
      "\u001b[0;31m---------------------------------------------------------------------------\u001b[0m",
      "\u001b[0;31mNameError\u001b[0m                                 Traceback (most recent call last)",
      "\u001b[1;32m/workspaces/pytorch_fundamentals/notebooks/02_load_datasets.ipynb Cell 4\u001b[0m line \u001b[0;36m1\n\u001b[1;32m      <a href='vscode-notebook-cell://codespaces%2Bverbose-space-umbrella-6pgw6xp5vxpc5qjw/workspaces/pytorch_fundamentals/notebooks/02_load_datasets.ipynb#W5sdnNjb2RlLXJlbW90ZQ%3D%3D?line=0'>1</a>\u001b[0m labels_map \u001b[39m=\u001b[39m {\n\u001b[1;32m      <a href='vscode-notebook-cell://codespaces%2Bverbose-space-umbrella-6pgw6xp5vxpc5qjw/workspaces/pytorch_fundamentals/notebooks/02_load_datasets.ipynb#W5sdnNjb2RlLXJlbW90ZQ%3D%3D?line=1'>2</a>\u001b[0m     \u001b[39m0\u001b[39m: \u001b[39m\"\u001b[39m\u001b[39mT-Shirt\u001b[39m\u001b[39m\"\u001b[39m,\n\u001b[1;32m      <a href='vscode-notebook-cell://codespaces%2Bverbose-space-umbrella-6pgw6xp5vxpc5qjw/workspaces/pytorch_fundamentals/notebooks/02_load_datasets.ipynb#W5sdnNjb2RlLXJlbW90ZQ%3D%3D?line=2'>3</a>\u001b[0m     \u001b[39m1\u001b[39m: \u001b[39m\"\u001b[39m\u001b[39mTrouser\u001b[39m\u001b[39m\"\u001b[39m,\n\u001b[0;32m   (...)\u001b[0m\n\u001b[1;32m     <a href='vscode-notebook-cell://codespaces%2Bverbose-space-umbrella-6pgw6xp5vxpc5qjw/workspaces/pytorch_fundamentals/notebooks/02_load_datasets.ipynb#W5sdnNjb2RlLXJlbW90ZQ%3D%3D?line=10'>11</a>\u001b[0m     \u001b[39m9\u001b[39m: \u001b[39m\"\u001b[39m\u001b[39mAnkle Boot\u001b[39m\u001b[39m\"\u001b[39m,\n\u001b[1;32m     <a href='vscode-notebook-cell://codespaces%2Bverbose-space-umbrella-6pgw6xp5vxpc5qjw/workspaces/pytorch_fundamentals/notebooks/02_load_datasets.ipynb#W5sdnNjb2RlLXJlbW90ZQ%3D%3D?line=11'>12</a>\u001b[0m }\n\u001b[0;32m---> <a href='vscode-notebook-cell://codespaces%2Bverbose-space-umbrella-6pgw6xp5vxpc5qjw/workspaces/pytorch_fundamentals/notebooks/02_load_datasets.ipynb#W5sdnNjb2RlLXJlbW90ZQ%3D%3D?line=12'>13</a>\u001b[0m figure \u001b[39m=\u001b[39m plt\u001b[39m.\u001b[39mfigure(figsize\u001b[39m=\u001b[39m(\u001b[39m8\u001b[39m, \u001b[39m8\u001b[39m))\n\u001b[1;32m     <a href='vscode-notebook-cell://codespaces%2Bverbose-space-umbrella-6pgw6xp5vxpc5qjw/workspaces/pytorch_fundamentals/notebooks/02_load_datasets.ipynb#W5sdnNjb2RlLXJlbW90ZQ%3D%3D?line=13'>14</a>\u001b[0m cols, rows \u001b[39m=\u001b[39m \u001b[39m3\u001b[39m, \u001b[39m3\u001b[39m\n\u001b[1;32m     <a href='vscode-notebook-cell://codespaces%2Bverbose-space-umbrella-6pgw6xp5vxpc5qjw/workspaces/pytorch_fundamentals/notebooks/02_load_datasets.ipynb#W5sdnNjb2RlLXJlbW90ZQ%3D%3D?line=14'>15</a>\u001b[0m \u001b[39mfor\u001b[39;00m i \u001b[39min\u001b[39;00m \u001b[39mrange\u001b[39m(\u001b[39m1\u001b[39m, cols \u001b[39m*\u001b[39m rows \u001b[39m+\u001b[39m \u001b[39m1\u001b[39m):\n",
      "\u001b[0;31mNameError\u001b[0m: name 'plt' is not defined"
     ]
    }
   ],
   "source": [
    "labels_map = {\n",
    "    0: \"T-Shirt\",\n",
    "    1: \"Trouser\",\n",
    "    2: \"Pullover\",\n",
    "    3: \"Dress\",\n",
    "    4: \"Coat\",\n",
    "    5: \"Sandal\",\n",
    "    6: \"Shirt\",\n",
    "    7: \"Sneaker\",\n",
    "    8: \"Bag\",\n",
    "    9: \"Ankle Boot\",\n",
    "}\n",
    "figure = plt.figure(figsize=(8, 8))\n",
    "cols, rows = 3, 3\n",
    "for i in range(1, cols * rows + 1):\n",
    "    sample_idx = torch.randint(len(training_data), size=(1,)).item()\n",
    "    img, label = training_data[sample_idx]\n",
    "    figure.add_subplot(rows, cols, i)\n",
    "    plt.title(labels_map[label])\n",
    "    plt.axis(\"off\")\n",
    "    plt.imshow(img.squeeze(), cmap=\"gray\")\n",
    "plt.show()"
   ]
  },
  {
   "cell_type": "markdown",
   "metadata": {},
   "source": [
    "## Preparing your data for training with DataLoaders\n",
    "-------------------------------------------------\n",
    "The ``Dataset`` retrieves our dataset's features and labels one sample at a time. While training a model, we typically want to \n",
    "pass samples in \"minibatches\", reshuffle the data at every epoch to reduce model overfitting, and use Python's multiprocessing to\n",
    "speed up data retrieval.\n",
    "\n",
    "In machine learning, you need to specify the features and labels in your dataset. **Features** are input and **labels** are output. We train features and then train the model to predict the label.\n",
    "\n",
    "  - Features are the patterns in the images pixels\n",
    "  - Labels are our 10 class types:  T-shirt, Sandal, Dress, etc\n",
    "\n",
    "The ``DataLoader`` is an iterable that abstracts this complexity for us in a simpler API. To use the Dataloader, we need to set the following parameters:\n",
    "\n",
    " - **data** the training data that will be used to train the model, and the test data to evaluate the model\n",
    " - **batch size** the number of records to be processed in each batch\n",
    " - **shuffle** the random sample of the data by indices\n"
   ]
  },
  {
   "cell_type": "code",
   "execution_count": 3,
   "metadata": {},
   "outputs": [
    {
     "ename": "NameError",
     "evalue": "name 'training_data' is not defined",
     "output_type": "error",
     "traceback": [
      "\u001b[0;31m---------------------------------------------------------------------------\u001b[0m",
      "\u001b[0;31mNameError\u001b[0m                                 Traceback (most recent call last)",
      "\u001b[1;32m/workspaces/pytorch_fundamentals/notebooks/02_load_datasets.ipynb Cell 6\u001b[0m line \u001b[0;36m3\n\u001b[1;32m      <a href='vscode-notebook-cell://codespaces%2Bverbose-space-umbrella-6pgw6xp5vxpc5qjw/workspaces/pytorch_fundamentals/notebooks/02_load_datasets.ipynb#X10sdnNjb2RlLXJlbW90ZQ%3D%3D?line=0'>1</a>\u001b[0m \u001b[39mfrom\u001b[39;00m \u001b[39mtorch\u001b[39;00m\u001b[39m.\u001b[39;00m\u001b[39mutils\u001b[39;00m\u001b[39m.\u001b[39;00m\u001b[39mdata\u001b[39;00m \u001b[39mimport\u001b[39;00m DataLoader\n\u001b[0;32m----> <a href='vscode-notebook-cell://codespaces%2Bverbose-space-umbrella-6pgw6xp5vxpc5qjw/workspaces/pytorch_fundamentals/notebooks/02_load_datasets.ipynb#X10sdnNjb2RlLXJlbW90ZQ%3D%3D?line=2'>3</a>\u001b[0m train_dataloader \u001b[39m=\u001b[39m DataLoader(training_data, batch_size\u001b[39m=\u001b[39m\u001b[39m64\u001b[39m, shuffle\u001b[39m=\u001b[39m\u001b[39mTrue\u001b[39;00m)\n\u001b[1;32m      <a href='vscode-notebook-cell://codespaces%2Bverbose-space-umbrella-6pgw6xp5vxpc5qjw/workspaces/pytorch_fundamentals/notebooks/02_load_datasets.ipynb#X10sdnNjb2RlLXJlbW90ZQ%3D%3D?line=3'>4</a>\u001b[0m test_dataloader \u001b[39m=\u001b[39m DataLoader(test_data, batch_size\u001b[39m=\u001b[39m\u001b[39m64\u001b[39m, shuffle\u001b[39m=\u001b[39m\u001b[39mTrue\u001b[39;00m)\n",
      "\u001b[0;31mNameError\u001b[0m: name 'training_data' is not defined"
     ]
    }
   ],
   "source": [
    "from torch.utils.data import DataLoader\n",
    "\n",
    "train_dataloader = DataLoader(training_data, batch_size=64, shuffle=True)\n",
    "test_dataloader = DataLoader(test_data, batch_size=64, shuffle=True)"
   ]
  },
  {
   "cell_type": "markdown",
   "metadata": {},
   "source": [
    "## Iterate through the DataLoader\n",
    "\n",
    "We have loaded that dataset into the `Dataloader` and can now iterate through the dataset as needed.\n",
    "Each iteration below returns a batch of `train_features` and `train_labels`(containing `batch_size=64` features and labels respectively). Because we specified `shuffle=True`, after we iterate over all batches the data is shuffled, for finer-grained control over the data loading order."
   ]
  },
  {
   "cell_type": "code",
   "execution_count": null,
   "metadata": {},
   "outputs": [],
   "source": [
    "# Display image and label.\n",
    "train_features, train_labels = next(iter(train_dataloader))\n",
    "print(f\"Feature batch shape: {train_features.size()}\")\n",
    "print(f\"Labels batch shape: {train_labels.size()}\")\n",
    "img = train_features[0].squeeze()\n",
    "label = train_labels[0]\n",
    "plt.imshow(img, cmap=\"gray\")\n",
    "plt.show()\n",
    "label_name = list(labels_map.values())[label]\n",
    "print(f\"Label: {label_name}\")"
   ]
  },
  {
   "cell_type": "markdown",
   "metadata": {},
   "source": [
    "# Normalization\n",
    "\n",
    "Normalization is a common data pre-processing technique that is applied to scale or transform the data to make sure there's an equal learning contribution from each feature. For example, each pixel in the grayscale images have a value between 0 and 255, which are features. If one pixel value is 17 and another pixel is 197. There will be an uneven distribution of the pixel importance, because the higher pixel volumes will deviate the learning. Normalization changes the range of your data, without distorting its distinction among our features. This pre-processing is done to avoid:\n",
    "\n",
    "- A reduction of the prediction accuracy \n",
    "- Difficulty for the model to learn\n",
    "- Unfavorable distribution of the feature data ranges"
   ]
  },
  {
   "cell_type": "markdown",
   "metadata": {},
   "source": [
    "## Transforms\n",
    "\n",
    "Data does not always come in the final processed form that is required for \n",
    "training machine learning algorithms. We use **transforms** to manipulate the data and make it suitable for training.\n",
    "\n",
    "All TorchVision datasets have two parameters (`transform` to modify the features and\n",
    "`target_transform` to modify the labels) that accept callables containing the transformation logic. The `torchvision.transforms` module offers \n",
    "several commonly-used transforms out of the box.\n",
    "\n",
    "The FashionMNIST features are in PIL Image format, and the labels are integers.\n",
    "For training, we need the features as normalized tensors, and the labels as one-hot encoded tensors.\n",
    "To make these transformations, we'll use `ToTensor` and `Lambda`."
   ]
  },
  {
   "cell_type": "code",
   "execution_count": null,
   "metadata": {},
   "outputs": [],
   "source": [
    "from torchvision import datasets\n",
    "from torchvision.transforms import ToTensor, Lambda\n",
    "\n",
    "ds = datasets.FashionMNIST(\n",
    "    root=\"data\",\n",
    "    train=True,\n",
    "    download=True,\n",
    "    transform=ToTensor(),\n",
    "    target_transform=Lambda(lambda y: torch.zeros(10, dtype=torch.float).scatter_(0, torch.tensor(y), value=1))\n",
    ")"
   ]
  },
  {
   "cell_type": "markdown",
   "metadata": {},
   "source": [
    "## ToTensor()\n",
    "\n",
    "`ToTensor` converts a PIL image or NumPy `ndarray` into a `FloatTensor` and scales the image's pixel intensity values into the range \\[0., 1.\\]\n",
    "\n",
    "## Lambda transforms\n",
    "\n",
    "Lambda transforms apply any user-defined lambda function. Here, we define a function \n",
    "to turn the integer into a one-hot encoded tensor. \n",
    "It first creates a zero tensor of size 10 (the number of labels in our dataset) and calls scatter which assigns a \n",
    "_value=1_ on the index as given by the label _y_. You can also use `torch.nn.functional.one_hot` as another option to do that."
   ]
  },
  {
   "cell_type": "code",
   "execution_count": null,
   "metadata": {},
   "outputs": [],
   "source": [
    "target_transform = Lambda(lambda y: torch.zeros(\n",
    "    10, dtype=torch.float).scatter_(dim=0, index=torch.tensor(y), value=1))"
   ]
  },
  {
   "cell_type": "markdown",
   "metadata": {},
   "source": []
  }
 ],
 "metadata": {
  "kernelspec": {
   "display_name": "Python 3",
   "language": "python",
   "name": "python3"
  },
  "language_info": {
   "codemirror_mode": {
    "name": "ipython",
    "version": 3
   },
   "file_extension": ".py",
   "mimetype": "text/x-python",
   "name": "python",
   "nbconvert_exporter": "python",
   "pygments_lexer": "ipython3",
   "version": "3.10.8"
  }
 },
 "nbformat": 4,
 "nbformat_minor": 2
}
